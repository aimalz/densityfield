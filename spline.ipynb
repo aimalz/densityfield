{
 "cells": [
  {
   "cell_type": "code",
   "execution_count": 11,
   "metadata": {
    "collapsed": true
   },
   "outputs": [],
   "source": [
    "import numpy as np\n",
    "import math\n",
    "import matplotlib.pyplot as plt\n",
    "import scipy.interpolate as inter\n",
    "import scipy.stats\n",
    "import emcee\n",
    "from matplotlib import cm\n",
    "\n",
    "%matplotlib inline"
   ]
  },
  {
   "cell_type": "code",
   "execution_count": 2,
   "metadata": {
    "collapsed": true
   },
   "outputs": [],
   "source": [
    "def likelihood(x, y, redshift, density, error_lower, error_upper):\n",
    "    #compute the spline given x,y\n",
    "    sset=inter.UnivariateSpline(x, y, k=2)\n",
    "\n",
    "    #evaluate the spline at the redshift datapoints\n",
    "    model_density= sset(redshift)\n",
    "\n",
    "    #the likelihood\n",
    "    L=1.\n",
    "    for i in range(len(redshift)):\n",
    "        #the likelihood of each model datapoint will be given by the corresponding datapoint pdf\n",
    "        if(model_density[i]<density[i]):\n",
    "            auxL= gaussian(model_density[i], density[i], error_lower[i])\n",
    "        else:\n",
    "            auxL= gaussian(model_density[i], density[i], error_upper[i])\n",
    "        #product of the likelihoods\n",
    "        L=L*auxL\n",
    "\n",
    "    return L"
   ]
  },
  {
   "cell_type": "code",
   "execution_count": 3,
   "metadata": {
    "collapsed": true
   },
   "outputs": [],
   "source": [
    "def logposterior(y, x, redshift, density, error_lower, error_upper, sigma):\n",
    "    #the likelihood\n",
    "    L=likelihood(x, y, redshift, density, error_lower, error_upper)\n",
    "\n",
    "    #the gaussian prior\n",
    "    auxprior=np.ones(len(y))\n",
    "    for i in range(len(y)-2):\n",
    "        auxprior[i+1]=gaussian(y[i+1], y[i], sigma)*gaussian(y[i+1], y[i+2], sigma) #correlation with immediate neighbors\n",
    "    prior=np.prod(auxprior)*gaussian(y[0], y[1], sigma)*gaussian(y[-1], y[-2], sigma) #include first and last points\n",
    "\n",
    "    return np.log(L*prior)"
   ]
  },
  {
   "cell_type": "code",
   "execution_count": 16,
   "metadata": {
    "collapsed": true
   },
   "outputs": [],
   "source": [
    "#emcee execution\n",
    "def montecarlo(x_knots, sigma):\n",
    "\n",
    "    #import catalog\n",
    "    aux= np.genfromtxt('mock.dat')\n",
    "    redshift, density, error_lower, error_upper= aux[:,0], aux[:,1], aux[:,2], aux[:,3]\n",
    "\n",
    "    #plot catalog\n",
    "    plt.plot(redshift, density, 'o', color='blue')\n",
    "    plt.errorbar(redshift, density, yerr=[error_lower, error_upper], color='blue', fmt=None, linewidth=2)\n",
    "    plt.xlim(0,7)\n",
    "    plt.savefig('plot_catalog'+str(sigma)+'.png')\n",
    "    plt.show()#block=False)\n",
    "    print('plotted catalog!')\n",
    "\n",
    "    #lets try the posterior!\n",
    "    #almost perfect solution\n",
    "    y_knots= np.array([2., 2.5, 2.]); print 10**logposterior(y_knots, x_knots, redshift, density, error_lower, error_upper, sigma)\n",
    "    #reasonable solution\n",
    "    y_knots= np.array([1.5, 2.5, 1.5]); print 10**logposterior(y_knots, x_knots, redshift, density, error_lower, error_upper, sigma)\n",
    "    #bad solution\n",
    "    y_knots= np.array([2., 1., 2.]); print 10**logposterior(y_knots, x_knots, redshift, density, error_lower, error_upper, sigma)\n",
    "\n",
    "\n",
    "    #lets run emcee to get the posterior pdf\n",
    "    N=500; nwalkers=100; ndim=len(x_knots); Nconverge=100\n",
    "    p0=np.zeros((nwalkers, ndim))\n",
    "    for i in range(nwalkers):\n",
    "        p0[i,0]=np.random.uniform(0., 5.)\n",
    "        p0[i,1]=np.random.uniform(0., 5.)\n",
    "        p0[i,2]=np.random.uniform(0., 5.)\n",
    "\n",
    "    sampler = emcee.EnsembleSampler(nwalkers, ndim, logposterior, args=[x_knots, redshift, density, error_lower, error_upper, sigma])\n",
    "    pos, prob, state= sampler.run_mcmc(p0, Nconverge)\n",
    "    sampler.reset()\n",
    "\n",
    "    pos, prob, state= sampler.run_mcmc(pos, N)\n",
    "    return sampler.flatchain"
   ]
  },
  {
   "cell_type": "code",
   "execution_count": 5,
   "metadata": {
    "collapsed": true
   },
   "outputs": [],
   "source": [
    "#just a gaussian\n",
    "def gaussian(x, a1, a2):\n",
    "    z= (x-a1)/a2\n",
    "    return np.exp((-z**2)/2)/(2*math.pi*a2**2)**.5"
   ]
  },
  {
   "cell_type": "code",
   "execution_count": 6,
   "metadata": {
    "collapsed": true
   },
   "outputs": [],
   "source": [
    "#just a function to obtain contours\n",
    "def plotting(background_muv, background_beta, ranges, nbins, smooth=False):\n",
    "\n",
    "    indices=np.where((np.isfinite(background_muv)==True) & (np.isfinite(background_beta)==True))\n",
    "    background_muv=background_muv[indices]\n",
    "    background_beta=background_beta[indices]\n",
    "\n",
    "    if(smooth==True):\n",
    "          auxL, Amuv, thetabeta =np.histogram2d(background_muv, background_beta, bins=nbins, range=ranges)\n",
    "          X, Y = np.meshgrid(Amuv, thetabeta)\n",
    "          positions = np.vstack([X.ravel(), Y.ravel()])\n",
    "          values = np.vstack([background_muv, background_beta])\n",
    "          kernel = scipy.stats.gaussian_kde(values)\n",
    "          auxL = np.reshape(kernel(positions).T, X.shape)\n",
    "          auxL=auxL.T/np.nansum(auxL)\n",
    "\n",
    "    else:\n",
    "          auxL, A1, theta1 =np.histogram2d(background_muv, background_beta, bins=nbins, range=ranges)\n",
    "          auxL=auxL/np.nansum(auxL)\n",
    "          aux=np.zeros((len(auxL[:,0]), len(auxL[0,:])))\n",
    "          Amuv=np.zeros(np.shape(auxL)[0]); thetabeta=np.zeros(np.shape(auxL)[1])\n",
    "\n",
    "          for i in range(len(Amuv)):\n",
    "              Amuv[i]=A1[i]+.5*(A1[i+1]-A1[i])\n",
    "          for i in range(len(thetabeta)):\n",
    "              thetabeta[i]=theta1[i]+.5*(theta1[i+1]-theta1[i])\n",
    "\n",
    "\n",
    "    index=np.where(auxL==np.max(auxL))\n",
    "\n",
    "    aux=np.zeros((len(auxL[:,0]), len(auxL[0,:])))\n",
    "    for i in range(len(auxL[:,0])):\n",
    "        for j in range(len(auxL[0,:])):\n",
    "            aux[i][j]=auxL[i,j]\n",
    "\n",
    "    aux1=np.argsort(aux, axis=None)\n",
    "    acum1=np.cumsum(aux.flatten()[aux1][::-1])\n",
    "    facum=inter.interp1d(acum1, acum1, kind='nearest')\n",
    "\n",
    "    sigma_1=np.round(scipy.special.erf(1*2**-.5), 3);  sigma_2=np.round(scipy.special.erf(2*2**-.5), 3);  sigma_3=np.round(scipy.special.erf(3*2**-.5), 3)\n",
    "\n",
    "    index1=np.where(acum1==facum(sigma_1))[0]\n",
    "    index2=np.where(acum1==facum(sigma_2))[0]\n",
    "    index3=np.where(acum1==facum(sigma_3))[0]\n",
    "    index4=np.where(acum1==facum(0.999))[0]\n",
    "\n",
    "    levels1=[acum1[0], aux.flatten()[aux1][::-1][index1][0],acum1[0], aux.flatten()[aux1][::-1][index2][0],acum1[0], aux.flatten()[aux1][::-1][index3][0],acum1[0], aux.flatten()[aux1][::-1][index4][0]]\n",
    "    #levels=[aux.flatten()[aux1][::-1][index1][0]]\n",
    "    ############\n",
    "\n",
    "    return Amuv, thetabeta, auxL.T, levels1"
   ]
  },
  {
   "cell_type": "code",
   "execution_count": 8,
   "metadata": {
    "collapsed": false
   },
   "outputs": [],
   "source": [
    "sigma=[.5,1.,3.]\n",
    "x_knots= np.array([2, 3.5, 5]) #we are going to try with 3 knots"
   ]
  },
  {
   "cell_type": "code",
   "execution_count": 17,
   "metadata": {
    "collapsed": false
   },
   "outputs": [
    {
     "data": {
      "image/png": "[encoded data removed]",
      "text/plain": [
       "<matplotlib.figure.Figure at 0x110a31e90>"
      ]
     },
     "metadata": {},
     "output_type": "display_data"
    },
    {
     "name": "stdout",
     "output_type": "stream",
     "text": [
      "plotted catalog!\n",
      "1.88907180265e-05\n",
      "3.54683982441e-116\n",
      "7.36743261938e-281\n"
     ]
    },
    {
     "name": "stderr",
     "output_type": "stream",
     "text": [
      "/Users/aimalz/anaconda/lib/python2.7/site-packages/ipykernel/__main__.py:11: RuntimeWarning: divide by zero encountered in log\n"
     ]
    },
    {
     "data": {
      "image/png": "[encoded data removed]",
      "text/plain": [
       "<matplotlib.figure.Figure at 0x113578090>"
      ]
     },
     "metadata": {},
     "output_type": "display_data"
    },
    {
     "name": "stdout",
     "output_type": "stream",
     "text": [
      "plotted catalog!\n",
      "1.0084624764e-06\n",
      "5.98760102277e-113\n",
      "1.24373383832e-277\n"
     ]
    },
    {
     "data": {
      "image/png": "[encoded data removed]",
      "text/plain": [
       "<matplotlib.figure.Figure at 0x113578050>"
      ]
     },
     "metadata": {},
     "output_type": "display_data"
    },
    {
     "name": "stdout",
     "output_type": "stream",
     "text": [
      "plotted catalog!\n",
      "1.131501237e-10\n",
      "1.44737636663e-115\n",
      "3.00646445397e-280\n"
     ]
    }
   ],
   "source": [
    "#run the montecarlo for different coreelation sigmas\n",
    "distribution_1=montecarlo(x_knots, sigma[0])\n",
    "distribution_2=montecarlo(x_knots, sigma[1])\n",
    "distribution_3=montecarlo(x_knots, sigma[2])"
   ]
  },
  {
   "cell_type": "code",
   "execution_count": 18,
   "metadata": {
    "collapsed": false
   },
   "outputs": [
    {
     "ename": "ValueError",
     "evalue": "Contour levels must be increasing",
     "output_type": "error",
     "traceback": [
      "\u001b[0;31m---------------------------------------------------------------------------\u001b[0m",
      "\u001b[0;31mValueError\u001b[0m                                Traceback (most recent call last)",
      "\u001b[0;32m<ipython-input-18-17e1b7b851ad>\u001b[0m in \u001b[0;36m<module>\u001b[0;34m()\u001b[0m\n\u001b[1;32m      3\u001b[0m \u001b[0;34m\u001b[0m\u001b[0m\n\u001b[1;32m      4\u001b[0m \u001b[0mauxplot1\u001b[0m\u001b[0;34m,\u001b[0m \u001b[0mauxplot2\u001b[0m\u001b[0;34m,\u001b[0m \u001b[0mauxplot3\u001b[0m\u001b[0;34m,\u001b[0m \u001b[0mauxplot4\u001b[0m\u001b[0;34m=\u001b[0m \u001b[0mplotting\u001b[0m\u001b[0;34m(\u001b[0m\u001b[0mdistribution_1\u001b[0m\u001b[0;34m[\u001b[0m\u001b[0;34m:\u001b[0m\u001b[0;34m,\u001b[0m\u001b[0;36m0\u001b[0m\u001b[0;34m]\u001b[0m\u001b[0;34m,\u001b[0m \u001b[0mdistribution_1\u001b[0m\u001b[0;34m[\u001b[0m\u001b[0;34m:\u001b[0m\u001b[0;34m,\u001b[0m\u001b[0;36m1\u001b[0m\u001b[0;34m]\u001b[0m\u001b[0;34m,\u001b[0m \u001b[0;34m[\u001b[0m\u001b[0;34m[\u001b[0m\u001b[0;36m1.\u001b[0m\u001b[0;34m,\u001b[0m \u001b[0;36m4.\u001b[0m\u001b[0;34m]\u001b[0m\u001b[0;34m,\u001b[0m \u001b[0;34m[\u001b[0m\u001b[0;36m1.\u001b[0m\u001b[0;34m,\u001b[0m \u001b[0;36m4.\u001b[0m\u001b[0;34m]\u001b[0m\u001b[0;34m]\u001b[0m\u001b[0;34m,\u001b[0m \u001b[0;34m[\u001b[0m\u001b[0;36m100\u001b[0m\u001b[0;34m,\u001b[0m \u001b[0;36m100\u001b[0m\u001b[0;34m]\u001b[0m\u001b[0;34m,\u001b[0m \u001b[0mTrue\u001b[0m\u001b[0;34m)\u001b[0m\u001b[0;34m\u001b[0m\u001b[0m\n\u001b[0;32m----> 5\u001b[0;31m \u001b[0maxarr\u001b[0m\u001b[0;34m[\u001b[0m\u001b[0;36m0\u001b[0m\u001b[0;34m]\u001b[0m\u001b[0;34m.\u001b[0m\u001b[0mcontourf\u001b[0m\u001b[0;34m(\u001b[0m\u001b[0mauxplot1\u001b[0m\u001b[0;34m,\u001b[0m \u001b[0mauxplot2\u001b[0m\u001b[0;34m,\u001b[0m \u001b[0mauxplot3\u001b[0m\u001b[0;34m,\u001b[0m \u001b[0mauxplot4\u001b[0m\u001b[0;34m,\u001b[0m \u001b[0mcmap\u001b[0m\u001b[0;34m=\u001b[0m\u001b[0mcm\u001b[0m\u001b[0;34m.\u001b[0m\u001b[0mget_cmap\u001b[0m\u001b[0;34m(\u001b[0m\u001b[0mcm\u001b[0m\u001b[0;34m.\u001b[0m\u001b[0mReds\u001b[0m\u001b[0;34m,\u001b[0m \u001b[0;36m2000\u001b[0m\u001b[0;34m)\u001b[0m\u001b[0;34m,\u001b[0m \u001b[0mhold\u001b[0m\u001b[0;34m=\u001b[0m\u001b[0;34m'on'\u001b[0m\u001b[0;34m,\u001b[0m \u001b[0malpha\u001b[0m\u001b[0;34m=\u001b[0m\u001b[0;36m.2\u001b[0m\u001b[0;34m)\u001b[0m\u001b[0;34m\u001b[0m\u001b[0m\n\u001b[0m\u001b[1;32m      6\u001b[0m \u001b[0mauxplot1\u001b[0m\u001b[0;34m,\u001b[0m \u001b[0mauxplot2\u001b[0m\u001b[0;34m,\u001b[0m \u001b[0mauxplot3\u001b[0m\u001b[0;34m,\u001b[0m \u001b[0mauxplot4\u001b[0m\u001b[0;34m=\u001b[0m \u001b[0mplotting\u001b[0m\u001b[0;34m(\u001b[0m\u001b[0mdistribution_2\u001b[0m\u001b[0;34m[\u001b[0m\u001b[0;34m:\u001b[0m\u001b[0;34m,\u001b[0m\u001b[0;36m0\u001b[0m\u001b[0;34m]\u001b[0m\u001b[0;34m,\u001b[0m \u001b[0mdistribution_2\u001b[0m\u001b[0;34m[\u001b[0m\u001b[0;34m:\u001b[0m\u001b[0;34m,\u001b[0m\u001b[0;36m1\u001b[0m\u001b[0;34m]\u001b[0m\u001b[0;34m,\u001b[0m \u001b[0;34m[\u001b[0m\u001b[0;34m[\u001b[0m\u001b[0;36m1.\u001b[0m\u001b[0;34m,\u001b[0m \u001b[0;36m4.\u001b[0m\u001b[0;34m]\u001b[0m\u001b[0;34m,\u001b[0m \u001b[0;34m[\u001b[0m\u001b[0;36m1.\u001b[0m\u001b[0;34m,\u001b[0m \u001b[0;36m4.\u001b[0m\u001b[0;34m]\u001b[0m\u001b[0;34m]\u001b[0m\u001b[0;34m,\u001b[0m \u001b[0;34m[\u001b[0m\u001b[0;36m100\u001b[0m\u001b[0;34m,\u001b[0m \u001b[0;36m100\u001b[0m\u001b[0;34m]\u001b[0m\u001b[0;34m,\u001b[0m \u001b[0mTrue\u001b[0m\u001b[0;34m)\u001b[0m\u001b[0;34m\u001b[0m\u001b[0m\n\u001b[1;32m      7\u001b[0m \u001b[0mcset2\u001b[0m\u001b[0;34m=\u001b[0m \u001b[0maxarr\u001b[0m\u001b[0;34m[\u001b[0m\u001b[0;36m0\u001b[0m\u001b[0;34m]\u001b[0m\u001b[0;34m.\u001b[0m\u001b[0mcontour\u001b[0m\u001b[0;34m(\u001b[0m\u001b[0mauxplot1\u001b[0m\u001b[0;34m,\u001b[0m \u001b[0mauxplot2\u001b[0m\u001b[0;34m,\u001b[0m \u001b[0mauxplot3\u001b[0m\u001b[0;34m,\u001b[0m \u001b[0mauxplot4\u001b[0m\u001b[0;34m[\u001b[0m\u001b[0;34m:\u001b[0m\u001b[0;36m2\u001b[0m\u001b[0;34m]\u001b[0m\u001b[0;34m,\u001b[0m \u001b[0mlinewidths\u001b[0m\u001b[0;34m=\u001b[0m\u001b[0;36m4\u001b[0m\u001b[0;34m,\u001b[0m \u001b[0mlinestyles\u001b[0m\u001b[0;34m=\u001b[0m\u001b[0;34m'--'\u001b[0m\u001b[0;34m,\u001b[0m \u001b[0mcolors\u001b[0m\u001b[0;34m=\u001b[0m\u001b[0;34m'darkblue'\u001b[0m\u001b[0;34m,\u001b[0m \u001b[0mhold\u001b[0m\u001b[0;34m=\u001b[0m\u001b[0;34m'on'\u001b[0m\u001b[0;34m,\u001b[0m \u001b[0malpha\u001b[0m\u001b[0;34m=\u001b[0m\u001b[0;36m1\u001b[0m\u001b[0;34m)\u001b[0m\u001b[0;34m\u001b[0m\u001b[0m\n",
      "\u001b[0;32m/Users/aimalz/anaconda/lib/python2.7/site-packages/matplotlib/__init__.pyc\u001b[0m in \u001b[0;36minner\u001b[0;34m(ax, *args, **kwargs)\u001b[0m\n\u001b[1;32m   1810\u001b[0m                     warnings.warn(msg % (label_namer, func.__name__),\n\u001b[1;32m   1811\u001b[0m                                   RuntimeWarning, stacklevel=2)\n\u001b[0;32m-> 1812\u001b[0;31m             \u001b[0;32mreturn\u001b[0m \u001b[0mfunc\u001b[0m\u001b[0;34m(\u001b[0m\u001b[0max\u001b[0m\u001b[0;34m,\u001b[0m \u001b[0;34m*\u001b[0m\u001b[0margs\u001b[0m\u001b[0;34m,\u001b[0m \u001b[0;34m**\u001b[0m\u001b[0mkwargs\u001b[0m\u001b[0;34m)\u001b[0m\u001b[0;34m\u001b[0m\u001b[0m\n\u001b[0m\u001b[1;32m   1813\u001b[0m         \u001b[0mpre_doc\u001b[0m \u001b[0;34m=\u001b[0m \u001b[0minner\u001b[0m\u001b[0;34m.\u001b[0m\u001b[0m__doc__\u001b[0m\u001b[0;34m\u001b[0m\u001b[0m\n\u001b[1;32m   1814\u001b[0m         \u001b[0;32mif\u001b[0m \u001b[0mpre_doc\u001b[0m \u001b[0;32mis\u001b[0m \u001b[0mNone\u001b[0m\u001b[0;34m:\u001b[0m\u001b[0;34m\u001b[0m\u001b[0m\n",
      "\u001b[0;32m/Users/aimalz/anaconda/lib/python2.7/site-packages/matplotlib/axes/_axes.pyc\u001b[0m in \u001b[0;36mcontourf\u001b[0;34m(self, *args, **kwargs)\u001b[0m\n\u001b[1;32m   5650\u001b[0m             \u001b[0mself\u001b[0m\u001b[0;34m.\u001b[0m\u001b[0mcla\u001b[0m\u001b[0;34m(\u001b[0m\u001b[0;34m)\u001b[0m\u001b[0;34m\u001b[0m\u001b[0m\n\u001b[1;32m   5651\u001b[0m         \u001b[0mkwargs\u001b[0m\u001b[0;34m[\u001b[0m\u001b[0;34m'filled'\u001b[0m\u001b[0;34m]\u001b[0m \u001b[0;34m=\u001b[0m \u001b[0mTrue\u001b[0m\u001b[0;34m\u001b[0m\u001b[0m\n\u001b[0;32m-> 5652\u001b[0;31m         \u001b[0;32mreturn\u001b[0m \u001b[0mmcontour\u001b[0m\u001b[0;34m.\u001b[0m\u001b[0mQuadContourSet\u001b[0m\u001b[0;34m(\u001b[0m\u001b[0mself\u001b[0m\u001b[0;34m,\u001b[0m \u001b[0;34m*\u001b[0m\u001b[0margs\u001b[0m\u001b[0;34m,\u001b[0m \u001b[0;34m**\u001b[0m\u001b[0mkwargs\u001b[0m\u001b[0;34m)\u001b[0m\u001b[0;34m\u001b[0m\u001b[0m\n\u001b[0m\u001b[1;32m   5653\u001b[0m     \u001b[0mcontourf\u001b[0m\u001b[0;34m.\u001b[0m\u001b[0m__doc__\u001b[0m \u001b[0;34m=\u001b[0m \u001b[0mmcontour\u001b[0m\u001b[0;34m.\u001b[0m\u001b[0mQuadContourSet\u001b[0m\u001b[0;34m.\u001b[0m\u001b[0mcontour_doc\u001b[0m\u001b[0;34m\u001b[0m\u001b[0m\n\u001b[1;32m   5654\u001b[0m \u001b[0;34m\u001b[0m\u001b[0m\n",
      "\u001b[0;32m/Users/aimalz/anaconda/lib/python2.7/site-packages/matplotlib/contour.pyc\u001b[0m in \u001b[0;36m__init__\u001b[0;34m(self, ax, *args, **kwargs)\u001b[0m\n\u001b[1;32m   1422\u001b[0m         \u001b[0mare\u001b[0m \u001b[0mdescribed\u001b[0m \u001b[0;32min\u001b[0m \u001b[0mQuadContourSet\u001b[0m\u001b[0;34m.\u001b[0m\u001b[0mcontour_doc\u001b[0m\u001b[0;34m.\u001b[0m\u001b[0;34m\u001b[0m\u001b[0m\n\u001b[1;32m   1423\u001b[0m         \"\"\"\n\u001b[0;32m-> 1424\u001b[0;31m         \u001b[0mContourSet\u001b[0m\u001b[0;34m.\u001b[0m\u001b[0m__init__\u001b[0m\u001b[0;34m(\u001b[0m\u001b[0mself\u001b[0m\u001b[0;34m,\u001b[0m \u001b[0max\u001b[0m\u001b[0;34m,\u001b[0m \u001b[0;34m*\u001b[0m\u001b[0margs\u001b[0m\u001b[0;34m,\u001b[0m \u001b[0;34m**\u001b[0m\u001b[0mkwargs\u001b[0m\u001b[0;34m)\u001b[0m\u001b[0;34m\u001b[0m\u001b[0m\n\u001b[0m\u001b[1;32m   1425\u001b[0m \u001b[0;34m\u001b[0m\u001b[0m\n\u001b[1;32m   1426\u001b[0m     \u001b[0;32mdef\u001b[0m \u001b[0m_process_args\u001b[0m\u001b[0;34m(\u001b[0m\u001b[0mself\u001b[0m\u001b[0;34m,\u001b[0m \u001b[0;34m*\u001b[0m\u001b[0margs\u001b[0m\u001b[0;34m,\u001b[0m \u001b[0;34m**\u001b[0m\u001b[0mkwargs\u001b[0m\u001b[0;34m)\u001b[0m\u001b[0;34m:\u001b[0m\u001b[0;34m\u001b[0m\u001b[0m\n",
      "\u001b[0;32m/Users/aimalz/anaconda/lib/python2.7/site-packages/matplotlib/contour.pyc\u001b[0m in \u001b[0;36m__init__\u001b[0;34m(self, ax, *args, **kwargs)\u001b[0m\n\u001b[1;32m    861\u001b[0m         \u001b[0mself\u001b[0m\u001b[0;34m.\u001b[0m\u001b[0m_transform\u001b[0m \u001b[0;34m=\u001b[0m \u001b[0mkwargs\u001b[0m\u001b[0;34m.\u001b[0m\u001b[0mget\u001b[0m\u001b[0;34m(\u001b[0m\u001b[0;34m'transform'\u001b[0m\u001b[0;34m,\u001b[0m \u001b[0mNone\u001b[0m\u001b[0;34m)\u001b[0m\u001b[0;34m\u001b[0m\u001b[0m\n\u001b[1;32m    862\u001b[0m \u001b[0;34m\u001b[0m\u001b[0m\n\u001b[0;32m--> 863\u001b[0;31m         \u001b[0mself\u001b[0m\u001b[0;34m.\u001b[0m\u001b[0m_process_args\u001b[0m\u001b[0;34m(\u001b[0m\u001b[0;34m*\u001b[0m\u001b[0margs\u001b[0m\u001b[0;34m,\u001b[0m \u001b[0;34m**\u001b[0m\u001b[0mkwargs\u001b[0m\u001b[0;34m)\u001b[0m\u001b[0;34m\u001b[0m\u001b[0m\n\u001b[0m\u001b[1;32m    864\u001b[0m         \u001b[0mself\u001b[0m\u001b[0;34m.\u001b[0m\u001b[0m_process_levels\u001b[0m\u001b[0;34m(\u001b[0m\u001b[0;34m)\u001b[0m\u001b[0;34m\u001b[0m\u001b[0m\n\u001b[1;32m    865\u001b[0m \u001b[0;34m\u001b[0m\u001b[0m\n",
      "\u001b[0;32m/Users/aimalz/anaconda/lib/python2.7/site-packages/matplotlib/contour.pyc\u001b[0m in \u001b[0;36m_process_args\u001b[0;34m(self, *args, **kwargs)\u001b[0m\n\u001b[1;32m   1443\u001b[0m                 \u001b[0mself\u001b[0m\u001b[0;34m.\u001b[0m\u001b[0m_corner_mask\u001b[0m \u001b[0;34m=\u001b[0m \u001b[0mmpl\u001b[0m\u001b[0;34m.\u001b[0m\u001b[0mrcParams\u001b[0m\u001b[0;34m[\u001b[0m\u001b[0;34m'contour.corner_mask'\u001b[0m\u001b[0;34m]\u001b[0m\u001b[0;34m\u001b[0m\u001b[0m\n\u001b[1;32m   1444\u001b[0m \u001b[0;34m\u001b[0m\u001b[0m\n\u001b[0;32m-> 1445\u001b[0;31m             \u001b[0mx\u001b[0m\u001b[0;34m,\u001b[0m \u001b[0my\u001b[0m\u001b[0;34m,\u001b[0m \u001b[0mz\u001b[0m \u001b[0;34m=\u001b[0m \u001b[0mself\u001b[0m\u001b[0;34m.\u001b[0m\u001b[0m_contour_args\u001b[0m\u001b[0;34m(\u001b[0m\u001b[0margs\u001b[0m\u001b[0;34m,\u001b[0m \u001b[0mkwargs\u001b[0m\u001b[0;34m)\u001b[0m\u001b[0;34m\u001b[0m\u001b[0m\n\u001b[0m\u001b[1;32m   1446\u001b[0m \u001b[0;34m\u001b[0m\u001b[0m\n\u001b[1;32m   1447\u001b[0m             \u001b[0m_mask\u001b[0m \u001b[0;34m=\u001b[0m \u001b[0mma\u001b[0m\u001b[0;34m.\u001b[0m\u001b[0mgetmask\u001b[0m\u001b[0;34m(\u001b[0m\u001b[0mz\u001b[0m\u001b[0;34m)\u001b[0m\u001b[0;34m\u001b[0m\u001b[0m\n",
      "\u001b[0;32m/Users/aimalz/anaconda/lib/python2.7/site-packages/matplotlib/contour.pyc\u001b[0m in \u001b[0;36m_contour_args\u001b[0;34m(self, args, kwargs)\u001b[0m\n\u001b[1;32m   1538\u001b[0m             \u001b[0mwarnings\u001b[0m\u001b[0;34m.\u001b[0m\u001b[0mwarn\u001b[0m\u001b[0;34m(\u001b[0m\u001b[0;34m'Log scale: values of z <= 0 have been masked'\u001b[0m\u001b[0;34m)\u001b[0m\u001b[0;34m\u001b[0m\u001b[0m\n\u001b[1;32m   1539\u001b[0m             \u001b[0mself\u001b[0m\u001b[0;34m.\u001b[0m\u001b[0mzmin\u001b[0m \u001b[0;34m=\u001b[0m \u001b[0mz\u001b[0m\u001b[0;34m.\u001b[0m\u001b[0mmin\u001b[0m\u001b[0;34m(\u001b[0m\u001b[0;34m)\u001b[0m\u001b[0;34m\u001b[0m\u001b[0m\n\u001b[0;32m-> 1540\u001b[0;31m         \u001b[0mself\u001b[0m\u001b[0;34m.\u001b[0m\u001b[0m_contour_level_args\u001b[0m\u001b[0;34m(\u001b[0m\u001b[0mz\u001b[0m\u001b[0;34m,\u001b[0m \u001b[0margs\u001b[0m\u001b[0;34m)\u001b[0m\u001b[0;34m\u001b[0m\u001b[0m\n\u001b[0m\u001b[1;32m   1541\u001b[0m         \u001b[0;32mreturn\u001b[0m \u001b[0;34m(\u001b[0m\u001b[0mx\u001b[0m\u001b[0;34m,\u001b[0m \u001b[0my\u001b[0m\u001b[0;34m,\u001b[0m \u001b[0mz\u001b[0m\u001b[0;34m)\u001b[0m\u001b[0;34m\u001b[0m\u001b[0m\n\u001b[1;32m   1542\u001b[0m \u001b[0;34m\u001b[0m\u001b[0m\n",
      "\u001b[0;32m/Users/aimalz/anaconda/lib/python2.7/site-packages/matplotlib/contour.pyc\u001b[0m in \u001b[0;36m_contour_level_args\u001b[0;34m(self, z, args)\u001b[0m\n\u001b[1;32m   1187\u001b[0m                 \u001b[0mwarnings\u001b[0m\u001b[0;34m.\u001b[0m\u001b[0mwarn\u001b[0m\u001b[0;34m(\u001b[0m\u001b[0;34m\"Contour levels are not increasing\"\u001b[0m\u001b[0;34m)\u001b[0m\u001b[0;34m\u001b[0m\u001b[0m\n\u001b[1;32m   1188\u001b[0m             \u001b[0;32melse\u001b[0m\u001b[0;34m:\u001b[0m\u001b[0;34m\u001b[0m\u001b[0m\n\u001b[0;32m-> 1189\u001b[0;31m                 \u001b[0;32mraise\u001b[0m \u001b[0mValueError\u001b[0m\u001b[0;34m(\u001b[0m\u001b[0;34m\"Contour levels must be increasing\"\u001b[0m\u001b[0;34m)\u001b[0m\u001b[0;34m\u001b[0m\u001b[0m\n\u001b[0m\u001b[1;32m   1190\u001b[0m \u001b[0;34m\u001b[0m\u001b[0m\n\u001b[1;32m   1191\u001b[0m     \u001b[0;32mdef\u001b[0m \u001b[0m_process_levels\u001b[0m\u001b[0;34m(\u001b[0m\u001b[0mself\u001b[0m\u001b[0;34m)\u001b[0m\u001b[0;34m:\u001b[0m\u001b[0;34m\u001b[0m\u001b[0m\n",
      "\u001b[0;31mValueError\u001b[0m: Contour levels must be increasing"
     ]
    },
    {
     "data": {
      "image/png": "[encoded data removed]",
      "text/plain": [
       "<matplotlib.figure.Figure at 0x10ea139d0>"
      ]
     },
     "metadata": {},
     "output_type": "display_data"
    }
   ],
   "source": [
    "#effect of different correlation sigmas\n",
    "fig,axarr=plt.subplots(2,1)\n",
    "\n",
    "auxplot1, auxplot2, auxplot3, auxplot4= plotting(distribution_1[:,0], distribution_1[:,1], [[1., 4.], [1., 4.]], [100, 100], True)\n",
    "axarr[0].contourf(auxplot1, auxplot2, auxplot3, auxplot4, cmap=cm.get_cmap(cm.Reds, 2000), hold='on', alpha=.2)\n",
    "auxplot1, auxplot2, auxplot3, auxplot4= plotting(distribution_2[:,0], distribution_2[:,1], [[1., 4.], [1., 4.]], [100, 100], True)\n",
    "cset2= axarr[0].contour(auxplot1, auxplot2, auxplot3, auxplot4[:2], linewidths=4, linestyles='--', colors='darkblue', hold='on', alpha=1)\n",
    "axarr[0].contour(auxplot1, auxplot2, auxplot3, auxplot4[2:4], linewidths=4, linestyles='--', colors='blue', hold='on', alpha=.8)\n",
    "axarr[0].contour(auxplot1, auxplot2, auxplot3, auxplot4[-2:], linewidths=4, linestyles='--', colors='blue', hold='on', alpha=.6)\n",
    "auxplot1, auxplot2, auxplot3, auxplot4= plotting(distribution_3[:,0], distribution_3[:,1], [[1., 4.], [1., 4.]], [100, 100], True)\n",
    "cset3= axarr[0].contour(auxplot1, auxplot2, auxplot3, auxplot4[:2], linewidths=1, linestyles='-', colors='black', hold='on', alpha=1)\n",
    "axarr[0].contour(auxplot1, auxplot2, auxplot3, auxplot4[2:4], linewidths=1, linestyles='-', colors='black', hold='on', alpha=.8)\n",
    "axarr[0].contour(auxplot1, auxplot2, auxplot3, auxplot4[-2:], linewidths=1, linestyles='-', colors='black', hold='on', alpha=.6)\n",
    "\n",
    "auxplot1, auxplot2, auxplot3, auxplot4= plotting(distribution_1[:,0], distribution_1[:,2], [[1., 4.], [1., 4.]], [100, 100], True)\n",
    "axarr[1].contourf(auxplot1, auxplot2, auxplot3, auxplot4, cmap=cm.get_cmap(cm.Reds, 2000), hold='on', alpha=.2)\n",
    "auxplot1, auxplot2, auxplot3, auxplot4= plotting(distribution_2[:,0], distribution_2[:,2], [[1., 4.], [1., 4.]], [100, 100], True)\n",
    "axarr[1].contour(auxplot1, auxplot2, auxplot3, auxplot4[:2], linewidths=4, linestyles='--', colors='darkblue', hold='on', alpha=1)\n",
    "axarr[1].contour(auxplot1, auxplot2, auxplot3, auxplot4[2:4], linewidths=4, linestyles='--', colors='blue', hold='on', alpha=.8)\n",
    "axarr[1].contour(auxplot1, auxplot2, auxplot3, auxplot4[-2:], linewidths=4, linestyles='--', colors='blue', hold='on', alpha=.6)\n",
    "auxplot1, auxplot2, auxplot3, auxplot4= plotting(distribution_3[:,0], distribution_3[:,2], [[1., 4.], [1., 4.]], [100, 100], True)\n",
    "axarr[1].contour(auxplot1, auxplot2, auxplot3, auxplot4[:2], linewidths=1, linestyles='-', colors='black', hold='on', alpha=1)\n",
    "axarr[1].contour(auxplot1, auxplot2, auxplot3, auxplot4[2:4], linewidths=1, linestyles='-', colors='black', hold='on', alpha=.8)\n",
    "axarr[1].contour(auxplot1, auxplot2, auxplot3, auxplot4[-2:], linewidths=1, linestyles='-', colors='black', hold='on', alpha=.6)\n",
    "\n",
    "lines=[cset2.collections[0], cset3.collections[0]]\n",
    "labels=['Sigma= '+str(sigma[1]), 'Sigma= '+str(sigma[2])]\n",
    "axarr[0].legend(lines, labels)\n",
    "axarr[1].legend(lines, labels)\n",
    "axarr[0].set_xlabel('Knot 1 (z=2)')\n",
    "axarr[0].set_ylabel('Knot 2 (z=3.5)')\n",
    "axarr[1].set_xlabel('Knot 1 (z=2)')\n",
    "axarr[1].set_ylabel('Knot 3 (z=5)')\n",
    "plt.savefig('sigmas.png')\n",
    "plt.show()"
   ]
  },
  {
   "cell_type": "code",
   "execution_count": 13,
   "metadata": {
    "collapsed": false
   },
   "outputs": [
    {
     "data": {
      "image/png": "[encoded data removed]",
      "text/plain": [
       "<matplotlib.figure.Figure at 0x110a512d0>"
      ]
     },
     "metadata": {},
     "output_type": "display_data"
    }
   ],
   "source": [
    "fig=plt.figure()\n",
    "for i in range(3):\n",
    "    plt.hist(distribution_2[:,i], histtype='step', linewidth=2, label='Collapsed posterior for knot at redshift ' +str(x_knots[i]))\n",
    "plt.legend()\n",
    "plt.title('Sigma= '+str(sigma[1]))\n",
    "plt.savefig('histogram.png')\n",
    "plt.show()"
   ]
  },
  {
   "cell_type": "code",
   "execution_count": null,
   "metadata": {
    "collapsed": true
   },
   "outputs": [],
   "source": []
  }
 ],
 "metadata": {
  "kernelspec": {
   "display_name": "Python 2",
   "language": "python",
   "name": "python2"
  },
  "language_info": {
   "codemirror_mode": {
    "name": "ipython",
    "version": 2
   },
   "file_extension": ".py",
   "mimetype": "text/x-python",
   "name": "python",
   "nbconvert_exporter": "python",
   "pygments_lexer": "ipython2",
   "version": "2.7.12"
  }
 },
 "nbformat": 4,
 "nbformat_minor": 0
}
