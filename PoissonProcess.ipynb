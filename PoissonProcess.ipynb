{
 "cells": [
  {
   "cell_type": "markdown",
   "metadata": {},
   "source": [
    "<h1>Poisson Process</h1>\n",
    "\n",
    "We assume Poisson likelihood and Gaussian Process kernel"
   ]
  },
  {
   "cell_type": "code",
   "execution_count": 2,
   "metadata": {
    "collapsed": true
   },
   "outputs": [],
   "source": [
    "%matplotlib inline\n",
    "import numpy as np\n",
    "from matplotlib import pyplot as plt"
   ]
  },
  {
   "cell_type": "markdown",
   "metadata": {},
   "source": [
    "<h2>Make some fake data</h2>"
   ]
  },
  {
   "cell_type": "code",
   "execution_count": null,
   "metadata": {
    "collapsed": true
   },
   "outputs": [],
   "source": [
    "def f(x):\n",
    "    \"\"\"The function to predict.\"\"\"\n",
    "    return x * np.sin(x)\n",
    "\n",
    "def make_data(N, rseed=1):\n",
    "    np.random.seed(rseed)\n",
    "\n",
    "    # Create some observations with noise\n",
    "    X = np.linspace(0.1, 9.9, N)\n",
    "    X = np.atleast_2d(X).T\n",
    "\n",
    "    y = f(X).ravel()\n",
    "    dy = 1.0 + 2.0 * np.random.random(y.shape)\n",
    "    noise = np.random.normal(0, dy)\n",
    "    y += noise\n",
    "    \n",
    "    return X, y, dy\n",
    "\n",
    "X, y, dy = make_data(20)"
   ]
  },
  {
   "cell_type": "markdown",
   "metadata": {},
   "source": [
    "<h2> Gaussian Process</h2>"
   ]
  },
  {
   "cell_type": "code",
   "execution_count": 12,
   "metadata": {
    "collapsed": false
   },
   "outputs": [
    {
     "name": "stdout",
     "output_type": "stream",
     "text": [
      "\u001b[4;33mWarning\u001b[0m: You are using OS X 10.11.\n",
      "We do not provide support for this pre-release version.\n",
      "You may encounter build failures or other breakage.\n",
      "\u001b[4;31mError\u001b[0m: Could not create /usr/local/Cellar\n",
      "Check you have permission to write to /usr/local\n"
     ]
    }
   ],
   "source": [
    "!brew install eigen"
   ]
  },
  {
   "cell_type": "code",
   "execution_count": 11,
   "metadata": {
    "collapsed": false
   },
   "outputs": [
    {
     "name": "stdout",
     "output_type": "stream",
     "text": [
      "Collecting george\n",
      "  Using cached george-0.2.1.tar.gz\n",
      "Building wheels for collected packages: george\n",
      "  Running setup.py bdist_wheel for george ... \u001b[?25l-\b \berror\n",
      "  Complete output from command /Users/discworld/miniconda3/bin/python -u -c \"import setuptools, tokenize;__file__='/private/var/folders/5l/v5nrqvpj2gl_tryqk1fd_1hh0000gn/T/pip-build-f0wa_og3/george/setup.py';exec(compile(getattr(tokenize, 'open', open)(__file__).read().replace('\\r\\n', '\\n'), __file__, 'exec'))\" bdist_wheel -d /var/folders/5l/v5nrqvpj2gl_tryqk1fd_1hh0000gn/T/tmp6ghbu_p4pip-wheel- --python-tag cp35:\n",
      "  running bdist_wheel\n",
      "  running build\n",
      "  running build_py\n",
      "  creating build\n",
      "  creating build/lib.macosx-10.6-x86_64-3.5\n",
      "  creating build/lib.macosx-10.6-x86_64-3.5/george\n",
      "  copying george/__init__.py -> build/lib.macosx-10.6-x86_64-3.5/george\n",
      "  copying george/basic.py -> build/lib.macosx-10.6-x86_64-3.5/george\n",
      "  copying george/generate_kernel_defs.py -> build/lib.macosx-10.6-x86_64-3.5/george\n",
      "  copying george/gp.py -> build/lib.macosx-10.6-x86_64-3.5/george\n",
      "  copying george/kernels.py -> build/lib.macosx-10.6-x86_64-3.5/george\n",
      "  copying george/utils.py -> build/lib.macosx-10.6-x86_64-3.5/george\n",
      "  creating build/lib.macosx-10.6-x86_64-3.5/george/testing\n",
      "  copying george/testing/__init__.py -> build/lib.macosx-10.6-x86_64-3.5/george/testing\n",
      "  copying george/testing/test_gp.py -> build/lib.macosx-10.6-x86_64-3.5/george/testing\n",
      "  copying george/testing/test_kernels.py -> build/lib.macosx-10.6-x86_64-3.5/george/testing\n",
      "  copying george/testing/test_pickle.py -> build/lib.macosx-10.6-x86_64-3.5/george/testing\n",
      "  copying george/testing/test_solvers.py -> build/lib.macosx-10.6-x86_64-3.5/george/testing\n",
      "  copying george/testing/test_tutorial.py -> build/lib.macosx-10.6-x86_64-3.5/george/testing\n",
      "  running egg_info\n",
      "  writing george.egg-info/PKG-INFO\n",
      "  writing dependency_links to george.egg-info/dependency_links.txt\n",
      "  writing top-level names to george.egg-info/top_level.txt\n",
      "  warning: manifest_maker: standard file '-c' not found\n",
      "  \n",
      "  reading manifest file 'george.egg-info/SOURCES.txt'\n",
      "  reading manifest template 'MANIFEST.in'\n",
      "  writing manifest file 'george.egg-info/SOURCES.txt'\n",
      "  copying george/_kernels.cpp -> build/lib.macosx-10.6-x86_64-3.5/george\n",
      "  copying george/hodlr.cpp -> build/lib.macosx-10.6-x86_64-3.5/george\n",
      "  running build_ext\n",
      "  Traceback (most recent call last):\n",
      "    File \"<string>\", line 1, in <module>\n",
      "    File \"/private/var/folders/5l/v5nrqvpj2gl_tryqk1fd_1hh0000gn/T/pip-build-f0wa_og3/george/setup.py\", line 177, in <module>\n",
      "      \"Programming Language :: Python\",\n",
      "    File \"/Users/discworld/miniconda3/lib/python3.5/distutils/core.py\", line 148, in setup\n",
      "      dist.run_commands()\n",
      "    File \"/Users/discworld/miniconda3/lib/python3.5/distutils/dist.py\", line 955, in run_commands\n",
      "      self.run_command(cmd)\n",
      "    File \"/Users/discworld/miniconda3/lib/python3.5/distutils/dist.py\", line 974, in run_command\n",
      "      cmd_obj.run()\n",
      "    File \"/Users/discworld/miniconda3/lib/python3.5/site-packages/wheel/bdist_wheel.py\", line 179, in run\n",
      "      self.run_command('build')\n",
      "    File \"/Users/discworld/miniconda3/lib/python3.5/distutils/cmd.py\", line 313, in run_command\n",
      "      self.distribution.run_command(command)\n",
      "    File \"/Users/discworld/miniconda3/lib/python3.5/distutils/dist.py\", line 974, in run_command\n",
      "      cmd_obj.run()\n",
      "    File \"/Users/discworld/miniconda3/lib/python3.5/distutils/command/build.py\", line 135, in run\n",
      "      self.run_command(cmd_name)\n",
      "    File \"/Users/discworld/miniconda3/lib/python3.5/distutils/cmd.py\", line 313, in run_command\n",
      "      self.distribution.run_command(command)\n",
      "    File \"/Users/discworld/miniconda3/lib/python3.5/distutils/dist.py\", line 974, in run_command\n",
      "      cmd_obj.run()\n",
      "    File \"/Users/discworld/miniconda3/lib/python3.5/site-packages/setuptools-23.0.0-py3.5.egg/setuptools/command/build_ext.py\", line 66, in run\n",
      "    File \"/Users/discworld/miniconda3/lib/python3.5/distutils/command/build_ext.py\", line 338, in run\n",
      "      self.build_extensions()\n",
      "    File \"/Users/discworld/miniconda3/lib/python3.5/distutils/command/build_ext.py\", line 447, in build_extensions\n",
      "      self._build_extensions_serial()\n",
      "    File \"/Users/discworld/miniconda3/lib/python3.5/distutils/command/build_ext.py\", line 472, in _build_extensions_serial\n",
      "      self.build_extension(ext)\n",
      "    File \"/Users/discworld/miniconda3/lib/python3.5/contextlib.py\", line 77, in __exit__\n",
      "      self.gen.throw(type, value, traceback)\n",
      "    File \"/Users/discworld/miniconda3/lib/python3.5/distutils/command/build_ext.py\", line 477, in _filter_build_errors\n",
      "      yield\n",
      "    File \"/Users/discworld/miniconda3/lib/python3.5/distutils/command/build_ext.py\", line 472, in _build_extensions_serial\n",
      "      self.build_extension(ext)\n",
      "    File \"/private/var/folders/5l/v5nrqvpj2gl_tryqk1fd_1hh0000gn/T/pip-build-f0wa_og3/george/setup.py\", line 93, in build_extension\n",
      "      raise RuntimeError(\"Required library Eigen 3 not found. \"\n",
      "  RuntimeError: Required library Eigen 3 not found. Check the documentation for solutions.\n",
      "  \n",
      "  ----------------------------------------\n",
      "\u001b[31m  Failed building wheel for george\u001b[0m\n",
      "\u001b[?25h  Running setup.py clean for george\n",
      "Failed to build george\n",
      "Installing collected packages: george\n",
      "  Running setup.py install for george ... \u001b[?25l-\b \berror\n",
      "    Complete output from command /Users/discworld/miniconda3/bin/python -u -c \"import setuptools, tokenize;__file__='/private/var/folders/5l/v5nrqvpj2gl_tryqk1fd_1hh0000gn/T/pip-build-f0wa_og3/george/setup.py';exec(compile(getattr(tokenize, 'open', open)(__file__).read().replace('\\r\\n', '\\n'), __file__, 'exec'))\" install --record /var/folders/5l/v5nrqvpj2gl_tryqk1fd_1hh0000gn/T/pip-oj6bu_k9-record/install-record.txt --single-version-externally-managed --compile:\n",
      "    running install\n",
      "    running build\n",
      "    running build_py\n",
      "    creating build\n",
      "    creating build/lib.macosx-10.6-x86_64-3.5\n",
      "    creating build/lib.macosx-10.6-x86_64-3.5/george\n",
      "    copying george/__init__.py -> build/lib.macosx-10.6-x86_64-3.5/george\n",
      "    copying george/basic.py -> build/lib.macosx-10.6-x86_64-3.5/george\n",
      "    copying george/generate_kernel_defs.py -> build/lib.macosx-10.6-x86_64-3.5/george\n",
      "    copying george/gp.py -> build/lib.macosx-10.6-x86_64-3.5/george\n",
      "    copying george/kernels.py -> build/lib.macosx-10.6-x86_64-3.5/george\n",
      "    copying george/utils.py -> build/lib.macosx-10.6-x86_64-3.5/george\n",
      "    creating build/lib.macosx-10.6-x86_64-3.5/george/testing\n",
      "    copying george/testing/__init__.py -> build/lib.macosx-10.6-x86_64-3.5/george/testing\n",
      "    copying george/testing/test_gp.py -> build/lib.macosx-10.6-x86_64-3.5/george/testing\n",
      "    copying george/testing/test_kernels.py -> build/lib.macosx-10.6-x86_64-3.5/george/testing\n",
      "    copying george/testing/test_pickle.py -> build/lib.macosx-10.6-x86_64-3.5/george/testing\n",
      "    copying george/testing/test_solvers.py -> build/lib.macosx-10.6-x86_64-3.5/george/testing\n",
      "    copying george/testing/test_tutorial.py -> build/lib.macosx-10.6-x86_64-3.5/george/testing\n",
      "    running egg_info\n",
      "    writing dependency_links to george.egg-info/dependency_links.txt\n",
      "    writing top-level names to george.egg-info/top_level.txt\n",
      "    writing george.egg-info/PKG-INFO\n",
      "    warning: manifest_maker: standard file '-c' not found\n",
      "    \n",
      "    reading manifest file 'george.egg-info/SOURCES.txt'\n",
      "    reading manifest template 'MANIFEST.in'\n",
      "    writing manifest file 'george.egg-info/SOURCES.txt'\n",
      "    copying george/_kernels.cpp -> build/lib.macosx-10.6-x86_64-3.5/george\n",
      "    copying george/hodlr.cpp -> build/lib.macosx-10.6-x86_64-3.5/george\n",
      "    running build_ext\n",
      "    Traceback (most recent call last):\n",
      "      File \"<string>\", line 1, in <module>\n",
      "      File \"/private/var/folders/5l/v5nrqvpj2gl_tryqk1fd_1hh0000gn/T/pip-build-f0wa_og3/george/setup.py\", line 177, in <module>\n",
      "        \"Programming Language :: Python\",\n",
      "      File \"/Users/discworld/miniconda3/lib/python3.5/distutils/core.py\", line 148, in setup\n",
      "        dist.run_commands()\n",
      "      File \"/Users/discworld/miniconda3/lib/python3.5/distutils/dist.py\", line 955, in run_commands\n",
      "        self.run_command(cmd)\n",
      "      File \"/Users/discworld/miniconda3/lib/python3.5/distutils/dist.py\", line 974, in run_command\n",
      "        cmd_obj.run()\n",
      "      File \"/Users/discworld/miniconda3/lib/python3.5/site-packages/setuptools-23.0.0-py3.5.egg/setuptools/command/install.py\", line 61, in run\n",
      "      File \"/Users/discworld/miniconda3/lib/python3.5/distutils/command/install.py\", line 539, in run\n",
      "        self.run_command('build')\n",
      "      File \"/Users/discworld/miniconda3/lib/python3.5/distutils/cmd.py\", line 313, in run_command\n",
      "        self.distribution.run_command(command)\n",
      "      File \"/Users/discworld/miniconda3/lib/python3.5/distutils/dist.py\", line 974, in run_command\n",
      "        cmd_obj.run()\n",
      "      File \"/Users/discworld/miniconda3/lib/python3.5/distutils/command/build.py\", line 135, in run\n",
      "        self.run_command(cmd_name)\n",
      "      File \"/Users/discworld/miniconda3/lib/python3.5/distutils/cmd.py\", line 313, in run_command\n",
      "        self.distribution.run_command(command)\n",
      "      File \"/Users/discworld/miniconda3/lib/python3.5/distutils/dist.py\", line 974, in run_command\n",
      "        cmd_obj.run()\n",
      "      File \"/Users/discworld/miniconda3/lib/python3.5/site-packages/setuptools-23.0.0-py3.5.egg/setuptools/command/build_ext.py\", line 66, in run\n",
      "      File \"/Users/discworld/miniconda3/lib/python3.5/distutils/command/build_ext.py\", line 338, in run\n",
      "        self.build_extensions()\n",
      "      File \"/Users/discworld/miniconda3/lib/python3.5/distutils/command/build_ext.py\", line 447, in build_extensions\n",
      "        self._build_extensions_serial()\n",
      "      File \"/Users/discworld/miniconda3/lib/python3.5/distutils/command/build_ext.py\", line 472, in _build_extensions_serial\n",
      "        self.build_extension(ext)\n",
      "      File \"/Users/discworld/miniconda3/lib/python3.5/contextlib.py\", line 77, in __exit__\n",
      "        self.gen.throw(type, value, traceback)\n",
      "      File \"/Users/discworld/miniconda3/lib/python3.5/distutils/command/build_ext.py\", line 477, in _filter_build_errors\n",
      "        yield\n",
      "      File \"/Users/discworld/miniconda3/lib/python3.5/distutils/command/build_ext.py\", line 472, in _build_extensions_serial\n",
      "        self.build_extension(ext)\n",
      "      File \"/private/var/folders/5l/v5nrqvpj2gl_tryqk1fd_1hh0000gn/T/pip-build-f0wa_og3/george/setup.py\", line 93, in build_extension\n",
      "        raise RuntimeError(\"Required library Eigen 3 not found. \"\n",
      "    RuntimeError: Required library Eigen 3 not found. Check the documentation for solutions.\n",
      "    \n",
      "    ----------------------------------------\n",
      "\u001b[31mCommand \"/Users/discworld/miniconda3/bin/python -u -c \"import setuptools, tokenize;__file__='/private/var/folders/5l/v5nrqvpj2gl_tryqk1fd_1hh0000gn/T/pip-build-f0wa_og3/george/setup.py';exec(compile(getattr(tokenize, 'open', open)(__file__).read().replace('\\r\\n', '\\n'), __file__, 'exec'))\" install --record /var/folders/5l/v5nrqvpj2gl_tryqk1fd_1hh0000gn/T/pip-oj6bu_k9-record/install-record.txt --single-version-externally-managed --compile\" failed with error code 1 in /private/var/folders/5l/v5nrqvpj2gl_tryqk1fd_1hh0000gn/T/pip-build-f0wa_og3/george/\u001b[0m\n",
      "\u001b[?25h"
     ]
    }
   ],
   "source": [
    "!pip install george"
   ]
  },
  {
   "cell_type": "code",
   "execution_count": 10,
   "metadata": {
    "collapsed": false
   },
   "outputs": [
    {
     "ename": "ImportError",
     "evalue": "No module named george",
     "output_type": "error",
     "traceback": [
      "\u001b[0;31m---------------------------------------------------------------------------\u001b[0m",
      "\u001b[0;31mImportError\u001b[0m                               Traceback (most recent call last)",
      "\u001b[0;32m<ipython-input-10-cc137aa0c401>\u001b[0m in \u001b[0;36m<module>\u001b[0;34m()\u001b[0m\n\u001b[0;32m----> 1\u001b[0;31m \u001b[0;32mimport\u001b[0m \u001b[0mgeorge\u001b[0m\u001b[0;34m\u001b[0m\u001b[0m\n\u001b[0m\u001b[1;32m      2\u001b[0m \u001b[0;32mfrom\u001b[0m \u001b[0mgeorge\u001b[0m\u001b[0;34m.\u001b[0m\u001b[0mkernels\u001b[0m \u001b[0;32mimport\u001b[0m \u001b[0mExpSquaredKernel\u001b[0m\u001b[0;34m\u001b[0m\u001b[0m\n\u001b[1;32m      3\u001b[0m \u001b[0;34m\u001b[0m\u001b[0m\n\u001b[1;32m      4\u001b[0m \u001b[0;31m# Set up the Gaussian process.\u001b[0m\u001b[0;34m\u001b[0m\u001b[0;34m\u001b[0m\u001b[0m\n\u001b[1;32m      5\u001b[0m \u001b[0mkernel\u001b[0m \u001b[0;34m=\u001b[0m \u001b[0mExpSquaredKernel\u001b[0m\u001b[0;34m(\u001b[0m\u001b[0;36m1.0\u001b[0m\u001b[0;34m)\u001b[0m\u001b[0;34m\u001b[0m\u001b[0m\n",
      "\u001b[0;31mImportError\u001b[0m: No module named george"
     ]
    }
   ],
   "source": [
    "import george\n",
    "from george.kernels import ExpSquaredKernel\n",
    "\n",
    "# Set up the Gaussian process.\n",
    "kernel = ExpSquaredKernel(1.0)\n",
    "gp = george.GP(kernel)\n",
    "\n",
    "# Pre-compute the factorization of the matrix.\n",
    "gp.compute(x, yerr)\n",
    "\n",
    "# Compute the log likelihood.\n",
    "print(gp.lnlikelihood(y))"
   ]
  },
  {
   "cell_type": "code",
   "execution_count": null,
   "metadata": {
    "collapsed": true
   },
   "outputs": [],
   "source": []
  }
 ],
 "metadata": {
  "kernelspec": {
   "display_name": "Python 2",
   "language": "python",
   "name": "python2"
  },
  "language_info": {
   "codemirror_mode": {
    "name": "ipython",
    "version": 2
   },
   "file_extension": ".py",
   "mimetype": "text/x-python",
   "name": "python",
   "nbconvert_exporter": "python",
   "pygments_lexer": "ipython2",
   "version": "2.7.10"
  }
 },
 "nbformat": 4,
 "nbformat_minor": 0
}
